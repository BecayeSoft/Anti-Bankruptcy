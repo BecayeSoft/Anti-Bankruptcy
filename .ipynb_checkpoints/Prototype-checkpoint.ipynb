{
 "cells": [
  {
   "cell_type": "markdown",
   "id": "b66a911c-5aa5-4cb5-8975-05340c28e025",
   "metadata": {},
   "source": [
    "# Skyrupt"
   ]
  },
  {
   "cell_type": "markdown",
   "id": "8e241d0b-5da0-4ed5-99cc-ea676398fcda",
   "metadata": {},
   "source": [
    "https://archive.ics.uci.edu/ml/datasets/Polish+companies+bankruptcy+data\n",
    "\n",
    "The dataset is about bankruptcy prediction of Polish companies.The bankrupt companies were analyzed in the period 2000-2012, while the still operating companies were evaluated from 2007 to 2013."
   ]
  },
  {
   "cell_type": "markdown",
   "source": [
    "## Features"
   ],
   "metadata": {
    "collapsed": false
   }
  },
  {
   "cell_type": "markdown",
   "source": [
    "X1 net profit / total assets\n",
    "X2 total liabilities / total assets\n",
    "X3 working capital / total assets\n",
    "X4 current assets / short-term liabilities\n",
    "X5 [(cash + short-term securities + receivables - short-term liabilities) / (operating expenses - depreciation)] * 365\n",
    "X6 retained earnings / total assets\n",
    "X7 EBIT / total assets\n",
    "X8 book value of equity / total liabilities\n",
    "X9 sales / total assets\n",
    "X10 equity / total assets\n",
    "X11 (gross profit + extraordinary items + financial expenses) / total assets\n",
    "X12 gross profit / short-term liabilities\n",
    "X13 (gross profit + depreciation) / sales\n",
    "X14 (gross profit + interest) / total assets\n",
    "X15 (total liabilities * 365) / (gross profit + depreciation)\n",
    "X16 (gross profit + depreciation) / total liabilities\n",
    "X17 total assets / total liabilities\n",
    "X18 gross profit / total assets\n",
    "X19 gross profit / sales\n",
    "X20 (inventory * 365) / sales\n",
    "X21 sales (n) / sales (n-1)\n",
    "X22 profit on operating activities / total assets\n",
    "X23 net profit / sales\n",
    "X24 gross profit (in 3 years) / total assets\n",
    "X25 (equity - share capital) / total assets\n",
    "X26 (net profit + depreciation) / total liabilities\n",
    "X27 profit on operating activities / financial expenses\n",
    "X28 working capital / fixed assets\n",
    "X29 logarithm of total assets\n",
    "X30 (total liabilities - cash) / sales\n",
    "X31 (gross profit + interest) / sales\n",
    "X32 (current liabilities * 365) / cost of products sold\n",
    "X33 operating expenses / short-term liabilities\n",
    "X34 operating expenses / total liabilities\n",
    "X35 profit on sales / total assets\n",
    "X36 total sales / total assets\n",
    "X37 (current assets - inventories) / long-term liabilities\n",
    "X38 constant capital / total assets\n",
    "X39 profit on sales / sales\n",
    "X40 (current assets - inventory - receivables) / short-term liabilities\n",
    "X41 total liabilities / ((profit on operating activities + depreciation) * (12/365))\n",
    "X42 profit on operating activities / sales\n",
    "X43 rotation receivables + inventory turnover in days\n",
    "X44 (receivables * 365) / sales\n",
    "X45 net profit / inventory\n",
    "X46 (current assets - inventory) / short-term liabilities\n",
    "X47 (inventory * 365) / cost of products sold\n",
    "X48 EBITDA (profit on operating activities - depreciation) / total assets\n",
    "X49 EBITDA (profit on operating activities - depreciation) / sales\n",
    "X50 current assets / total liabilities\n",
    "X51 short-term liabilities / total assets\n",
    "X52 (short-term liabilities * 365) / cost of products sold)\n",
    "X53 equity / fixed assets\n",
    "X54 constant capital / fixed assets\n",
    "X55 working capital\n",
    "X56 (sales - cost of products sold) / sales\n",
    "X57 (current assets - inventory - short-term liabilities) / (sales - gross profit - depreciation)\n",
    "X58 total costs /total sales\n",
    "X59 long-term liabilities / equity\n",
    "X60 sales / inventory\n",
    "X61 sales / receivables\n",
    "X62 (short-term liabilities *365) / sales\n",
    "X63 sales / short-term liabilities\n",
    "X64 sales / fixed assets"
   ],
   "metadata": {
    "collapsed": false
   }
  },
  {
   "cell_type": "code",
   "execution_count": 24,
   "outputs": [],
   "source": [
    "from scipy.io import arff\n",
    "import pandas as pd\n",
    "import numpy as np\n",
    "from random import shuffle"
   ],
   "metadata": {
    "collapsed": false
   }
  },
  {
   "cell_type": "code",
   "execution_count": 2,
   "outputs": [
    {
     "data": {
      "text/plain": "      Attr1    Attr2    Attr3   Attr4    Attr5    Attr6     Attr7    Attr8  \\\n0  0.200550  0.37951  0.39641  2.0472  32.3510  0.38825  0.249760  1.33050   \n1  0.209120  0.49988  0.47225  1.9447  14.7860  0.00000  0.258340  0.99601   \n2  0.248660  0.69592  0.26713  1.5548  -1.1523  0.00000  0.309060  0.43695   \n3  0.081483  0.30734  0.45879  2.4928  51.9520  0.14988  0.092704  1.86610   \n4  0.187320  0.61323  0.22960  1.4063  -7.3128  0.18732  0.187320  0.63070   \n\n    Attr9   Attr10  ...    Attr56   Attr57   Attr58    Attr59  Attr60  Attr61  \\\n0  1.1389  0.50494  ...  0.121960  0.39718  0.87804  0.001924  8.4160  5.1372   \n1  1.6996  0.49788  ...  0.121300  0.42002  0.85300  0.000000  4.1486  3.2732   \n2  1.3090  0.30408  ...  0.241140  0.81774  0.76599  0.694840  4.9909  3.9510   \n3  1.0571  0.57353  ...  0.054015  0.14207  0.94598  0.000000  4.5746  3.6147   \n4  1.1559  0.38677  ...  0.134850  0.48431  0.86515  0.124440  6.3985  4.3158   \n\n    Attr62  Attr63   Attr64  class  \n0   82.658  4.4158   7.4277   b'0'  \n1  107.350  3.4000  60.9870   b'0'  \n2  134.270  2.7185   5.2078   b'0'  \n3   86.435  4.2228   5.5497   b'0'  \n4  127.210  2.8692   7.8980   b'0'  \n\n[5 rows x 65 columns]",
      "text/html": "<div>\n<style scoped>\n    .dataframe tbody tr th:only-of-type {\n        vertical-align: middle;\n    }\n\n    .dataframe tbody tr th {\n        vertical-align: top;\n    }\n\n    .dataframe thead th {\n        text-align: right;\n    }\n</style>\n<table border=\"1\" class=\"dataframe\">\n  <thead>\n    <tr style=\"text-align: right;\">\n      <th></th>\n      <th>Attr1</th>\n      <th>Attr2</th>\n      <th>Attr3</th>\n      <th>Attr4</th>\n      <th>Attr5</th>\n      <th>Attr6</th>\n      <th>Attr7</th>\n      <th>Attr8</th>\n      <th>Attr9</th>\n      <th>Attr10</th>\n      <th>...</th>\n      <th>Attr56</th>\n      <th>Attr57</th>\n      <th>Attr58</th>\n      <th>Attr59</th>\n      <th>Attr60</th>\n      <th>Attr61</th>\n      <th>Attr62</th>\n      <th>Attr63</th>\n      <th>Attr64</th>\n      <th>class</th>\n    </tr>\n  </thead>\n  <tbody>\n    <tr>\n      <th>0</th>\n      <td>0.200550</td>\n      <td>0.37951</td>\n      <td>0.39641</td>\n      <td>2.0472</td>\n      <td>32.3510</td>\n      <td>0.38825</td>\n      <td>0.249760</td>\n      <td>1.33050</td>\n      <td>1.1389</td>\n      <td>0.50494</td>\n      <td>...</td>\n      <td>0.121960</td>\n      <td>0.39718</td>\n      <td>0.87804</td>\n      <td>0.001924</td>\n      <td>8.4160</td>\n      <td>5.1372</td>\n      <td>82.658</td>\n      <td>4.4158</td>\n      <td>7.4277</td>\n      <td>b'0'</td>\n    </tr>\n    <tr>\n      <th>1</th>\n      <td>0.209120</td>\n      <td>0.49988</td>\n      <td>0.47225</td>\n      <td>1.9447</td>\n      <td>14.7860</td>\n      <td>0.00000</td>\n      <td>0.258340</td>\n      <td>0.99601</td>\n      <td>1.6996</td>\n      <td>0.49788</td>\n      <td>...</td>\n      <td>0.121300</td>\n      <td>0.42002</td>\n      <td>0.85300</td>\n      <td>0.000000</td>\n      <td>4.1486</td>\n      <td>3.2732</td>\n      <td>107.350</td>\n      <td>3.4000</td>\n      <td>60.9870</td>\n      <td>b'0'</td>\n    </tr>\n    <tr>\n      <th>2</th>\n      <td>0.248660</td>\n      <td>0.69592</td>\n      <td>0.26713</td>\n      <td>1.5548</td>\n      <td>-1.1523</td>\n      <td>0.00000</td>\n      <td>0.309060</td>\n      <td>0.43695</td>\n      <td>1.3090</td>\n      <td>0.30408</td>\n      <td>...</td>\n      <td>0.241140</td>\n      <td>0.81774</td>\n      <td>0.76599</td>\n      <td>0.694840</td>\n      <td>4.9909</td>\n      <td>3.9510</td>\n      <td>134.270</td>\n      <td>2.7185</td>\n      <td>5.2078</td>\n      <td>b'0'</td>\n    </tr>\n    <tr>\n      <th>3</th>\n      <td>0.081483</td>\n      <td>0.30734</td>\n      <td>0.45879</td>\n      <td>2.4928</td>\n      <td>51.9520</td>\n      <td>0.14988</td>\n      <td>0.092704</td>\n      <td>1.86610</td>\n      <td>1.0571</td>\n      <td>0.57353</td>\n      <td>...</td>\n      <td>0.054015</td>\n      <td>0.14207</td>\n      <td>0.94598</td>\n      <td>0.000000</td>\n      <td>4.5746</td>\n      <td>3.6147</td>\n      <td>86.435</td>\n      <td>4.2228</td>\n      <td>5.5497</td>\n      <td>b'0'</td>\n    </tr>\n    <tr>\n      <th>4</th>\n      <td>0.187320</td>\n      <td>0.61323</td>\n      <td>0.22960</td>\n      <td>1.4063</td>\n      <td>-7.3128</td>\n      <td>0.18732</td>\n      <td>0.187320</td>\n      <td>0.63070</td>\n      <td>1.1559</td>\n      <td>0.38677</td>\n      <td>...</td>\n      <td>0.134850</td>\n      <td>0.48431</td>\n      <td>0.86515</td>\n      <td>0.124440</td>\n      <td>6.3985</td>\n      <td>4.3158</td>\n      <td>127.210</td>\n      <td>2.8692</td>\n      <td>7.8980</td>\n      <td>b'0'</td>\n    </tr>\n  </tbody>\n</table>\n<p>5 rows × 65 columns</p>\n</div>"
     },
     "execution_count": 2,
     "metadata": {},
     "output_type": "execute_result"
    }
   ],
   "source": [
    "data = arff.loadarff('data/1year.arff')\n",
    "df = pd.DataFrame(data[0])\n",
    "\n",
    "df.head()"
   ],
   "metadata": {
    "collapsed": false
   }
  },
  {
   "cell_type": "code",
   "execution_count": 3,
   "outputs": [
    {
     "data": {
      "text/plain": "(7027, 65)"
     },
     "execution_count": 3,
     "metadata": {},
     "output_type": "execute_result"
    }
   ],
   "source": [
    "df.shape"
   ],
   "metadata": {
    "collapsed": false
   }
  },
  {
   "cell_type": "code",
   "execution_count": 4,
   "outputs": [
    {
     "data": {
      "text/plain": "(array([( 0.20055 , 0.37951,  0.39641, 2.0472 ,   32.351 , 0.38825 ,  0.24976 , 1.3305  , 1.1389 , 0.50494 , 0.24976 ,  0.6598  ,  0.1666  ,  0.24976 ,    497.42,  0.73378 , 2.6349,  0.24976 ,  0.14942 , 43.37  , 1.2479 , 0.21402 ,  0.11998 , 0.47706 , 0.50494 ,  0.60411 ,  1.4582 ,  1.7615 , 5.9443, 0.11788, 0.14942 ,  94.14 , 3.8772, 0.56393 ,  0.21402 , 1.741  , 5.9327e+02, 0.50591,  0.12804 , 0.66295 , 0.051402, 0.12804 , 114.42 ,  71.05 ,  1.0097  , 1.5225 ,  49.394 ,  0.1853  ,  0.11085 , 2.042  , 0.37854, 0.25792,  2.2437 ,  2.248  ,  3.4869e+05,  0.12196 ,  0.39718 , 0.87804, 1.9240e-03,  8.416 , 5.1372,  82.658, 4.4158,  7.4277 , b'0'),\n        ( 0.20912 , 0.49988,  0.47225, 1.9447 ,   14.786 , 0.      ,  0.25834 , 0.99601 , 1.6996 , 0.49788 , 0.26114 ,  0.5168  ,  0.15835 ,  0.25834 ,    677.96,  0.53838 , 2.0005,  0.25834 ,  0.152   , 87.981 , 1.4293 , 0.24806 ,  0.12304 ,      nan, 0.39542 ,  0.43992 , 88.444  , 16.946  , 3.6884, 0.26969, 0.152   , 122.17 , 2.9876, 2.9876  ,  0.20616 , 1.6996 ,        nan, 0.49788,  0.1213  , 0.086422, 0.064371, 0.14595 , 199.49 , 111.51 ,  0.51045 , 1.1252 , 100.13  ,  0.23727 ,  0.13961 , 1.9447 , 0.49988, 0.33472, 17.866  , 17.866  ,  2.3046e+03,  0.1213  ,  0.42002 , 0.853  , 0.0000e+00,  4.1486, 3.2732, 107.35 , 3.4   , 60.987  , b'0'),\n        ( 0.24866 , 0.69592,  0.26713, 1.5548 ,   -1.1523, 0.      ,  0.30906 , 0.43695 , 1.309  , 0.30408 , 0.31258 ,  0.64184 ,  0.24435 ,  0.30906 ,    794.16,  0.45961 , 1.4369,  0.30906 ,  0.2361  , 73.133 , 1.4283 , 0.3026  ,  0.18996 ,      nan, 0.28932 ,  0.37282 , 86.011  ,  1.0627 , 4.3749, 0.41929, 0.23815 , 176.93 , 2.063 , 1.4274  ,  0.31565 , 1.309  , 2.3019e+00, 0.51537,  0.24114 , 0.32202 , 0.07402 , 0.23117 , 165.51 ,  92.381,  0.94807 , 1.0101 ,  96.372 ,  0.29181 ,  0.22293 , 1.0758 , 0.48152, 0.48474,  1.2098 ,  2.0504 ,  6.3327e+03,  0.24114 ,  0.81774 , 0.76599, 6.9484e-01,  4.9909, 3.951 , 134.27 , 2.7185,  5.2078 , b'0'),\n        ...,\n        ( 0.006338, 0.50276,  0.43923, 1.8736 ,    9.7417, 0.006338,  0.012022, 0.98356 , 1.0083 , 0.49449 , 0.012022,  0.023912,  0.014722,  0.012022,   3465.6 ,  0.10532 , 1.989 ,  0.012022,  0.003342, 34.862 ,     nan, 0.014559,  0.001762, 0.012022, 0.49449 ,  0.094015,      nan,  7.5711 , 4.041 , 0.13806, 0.003342,  51.443, 7.0952, 0.028958,  0.014559, 3.6054 ,        nan, 0.49449,  0.004048, 0.012816, 0.29788 , 0.004048,  94.936,  60.074,  0.018448, 1.1903 ,  35.153 , -0.02637 , -0.007331, 1.8736 , 0.50276, 0.14094,  8.5238 ,  8.5238 ,  4.8269e+03,  0.008258,  0.012817, 0.99174, 0.0000e+00, 10.47  , 6.0759,  51.019, 7.1542, 62.001  , b'1'),\n        (-0.041643, 0.8481 , -0.12852, 0.57485, -121.92  , 0.      , -0.036795, 0.17901 , 0.42138, 0.15182 , 0.006414, -0.12172 , -0.030657, -0.036795, -23963.  , -0.015232, 1.1791, -0.036795, -0.087322,  9.1932, 0.64405, 0.006414, -0.098825, 0.045607, 0.12978 , -0.020947,  0.14843, -0.15557, 4.104 , 2.0119 , 0.01522 , 212.42 , 1.7183, 0.61247 , -0.098064, 0.52581, 2.9911e-01, 0.69731, -0.23272 , 0.096108, 0.9333  , 0.01522 , 125.36 , 116.17 , -3.9237  , 0.13122,   7.4576, -0.017463, -0.041444, 0.2049 , 0.3023 , 0.58197,  0.18377,  0.84405, -1.6330e+03, -0.23272 , -0.27429 , 0.98788, 3.5931e+00, 39.703 , 3.142 , 261.85 , 1.3939,  0.51005, b'1'),\n        ( 0.014946, 0.94648,  0.03211, 1.0363 ,  -20.581 , 0.      ,  0.01526 , 0.056357, 2.9694 , 0.053341, 0.076621,  0.017266,  0.01542 ,  0.01526 ,   7545.  ,  0.048376, 1.0565,  0.01526 ,  0.005139, 24.275 ,     nan, 0.049167,  0.005034, 0.01526 , 0.015115,  0.048045,  0.80127,  0.37975, 3.1166, 0.31637, 0.014846, 110.37 , 3.3074, 3.0884  ,  0.046552, 2.9998 , 1.1422e+01, 0.11624,  0.015677, 0.007959, 0.39588 , 0.016558, 111.72 ,  87.443,  0.075684, 0.23141,  24.66  ,  0.018639,  0.006277, 0.96769, 0.88379, 0.30235,  0.63083,  1.3747 ,  4.2000e+01,  0.015705,  0.28021 , 0.97443, 1.1792e+00, 15.036 , 4.1741, 108.64 , 3.3599, 35.118  , b'1')],\n       dtype=[('Attr1', '<f8'), ('Attr2', '<f8'), ('Attr3', '<f8'), ('Attr4', '<f8'), ('Attr5', '<f8'), ('Attr6', '<f8'), ('Attr7', '<f8'), ('Attr8', '<f8'), ('Attr9', '<f8'), ('Attr10', '<f8'), ('Attr11', '<f8'), ('Attr12', '<f8'), ('Attr13', '<f8'), ('Attr14', '<f8'), ('Attr15', '<f8'), ('Attr16', '<f8'), ('Attr17', '<f8'), ('Attr18', '<f8'), ('Attr19', '<f8'), ('Attr20', '<f8'), ('Attr21', '<f8'), ('Attr22', '<f8'), ('Attr23', '<f8'), ('Attr24', '<f8'), ('Attr25', '<f8'), ('Attr26', '<f8'), ('Attr27', '<f8'), ('Attr28', '<f8'), ('Attr29', '<f8'), ('Attr30', '<f8'), ('Attr31', '<f8'), ('Attr32', '<f8'), ('Attr33', '<f8'), ('Attr34', '<f8'), ('Attr35', '<f8'), ('Attr36', '<f8'), ('Attr37', '<f8'), ('Attr38', '<f8'), ('Attr39', '<f8'), ('Attr40', '<f8'), ('Attr41', '<f8'), ('Attr42', '<f8'), ('Attr43', '<f8'), ('Attr44', '<f8'), ('Attr45', '<f8'), ('Attr46', '<f8'), ('Attr47', '<f8'), ('Attr48', '<f8'), ('Attr49', '<f8'), ('Attr50', '<f8'), ('Attr51', '<f8'), ('Attr52', '<f8'), ('Attr53', '<f8'), ('Attr54', '<f8'), ('Attr55', '<f8'), ('Attr56', '<f8'), ('Attr57', '<f8'), ('Attr58', '<f8'), ('Attr59', '<f8'), ('Attr60', '<f8'), ('Attr61', '<f8'), ('Attr62', '<f8'), ('Attr63', '<f8'), ('Attr64', '<f8'), ('class', 'S1')]),\n Dataset: '1year-weka.filters.unsupervised.instance.SubsetByExpression-Enot\n \tAttr1's type is numeric\n \tAttr2's type is numeric\n \tAttr3's type is numeric\n \tAttr4's type is numeric\n \tAttr5's type is numeric\n \tAttr6's type is numeric\n \tAttr7's type is numeric\n \tAttr8's type is numeric\n \tAttr9's type is numeric\n \tAttr10's type is numeric\n \tAttr11's type is numeric\n \tAttr12's type is numeric\n \tAttr13's type is numeric\n \tAttr14's type is numeric\n \tAttr15's type is numeric\n \tAttr16's type is numeric\n \tAttr17's type is numeric\n \tAttr18's type is numeric\n \tAttr19's type is numeric\n \tAttr20's type is numeric\n \tAttr21's type is numeric\n \tAttr22's type is numeric\n \tAttr23's type is numeric\n \tAttr24's type is numeric\n \tAttr25's type is numeric\n \tAttr26's type is numeric\n \tAttr27's type is numeric\n \tAttr28's type is numeric\n \tAttr29's type is numeric\n \tAttr30's type is numeric\n \tAttr31's type is numeric\n \tAttr32's type is numeric\n \tAttr33's type is numeric\n \tAttr34's type is numeric\n \tAttr35's type is numeric\n \tAttr36's type is numeric\n \tAttr37's type is numeric\n \tAttr38's type is numeric\n \tAttr39's type is numeric\n \tAttr40's type is numeric\n \tAttr41's type is numeric\n \tAttr42's type is numeric\n \tAttr43's type is numeric\n \tAttr44's type is numeric\n \tAttr45's type is numeric\n \tAttr46's type is numeric\n \tAttr47's type is numeric\n \tAttr48's type is numeric\n \tAttr49's type is numeric\n \tAttr50's type is numeric\n \tAttr51's type is numeric\n \tAttr52's type is numeric\n \tAttr53's type is numeric\n \tAttr54's type is numeric\n \tAttr55's type is numeric\n \tAttr56's type is numeric\n \tAttr57's type is numeric\n \tAttr58's type is numeric\n \tAttr59's type is numeric\n \tAttr60's type is numeric\n \tAttr61's type is numeric\n \tAttr62's type is numeric\n \tAttr63's type is numeric\n \tAttr64's type is numeric\n \tclass's type is nominal, range is ('0', '1'))"
     },
     "execution_count": 4,
     "metadata": {},
     "output_type": "execute_result"
    }
   ],
   "source": [
    "data"
   ],
   "metadata": {
    "collapsed": false
   }
  },
  {
   "cell_type": "code",
   "execution_count": 13,
   "outputs": [
    {
     "data": {
      "text/plain": "array([b'0', b'1'], dtype=object)"
     },
     "execution_count": 13,
     "metadata": {},
     "output_type": "execute_result"
    }
   ],
   "source": [
    "df['class'].unique()"
   ],
   "metadata": {
    "collapsed": false
   }
  },
  {
   "cell_type": "markdown",
   "source": [
    "#### Format classes correctly"
   ],
   "metadata": {
    "collapsed": false
   }
  },
  {
   "cell_type": "code",
   "execution_count": 16,
   "outputs": [],
   "source": [
    "df = df.replace(b'0', 0)\n",
    "df = df.replace(b'1', 1)"
   ],
   "metadata": {
    "collapsed": false
   }
  },
  {
   "cell_type": "code",
   "execution_count": 30,
   "outputs": [],
   "source": [
    "df = df.sample(frac=1)"
   ],
   "metadata": {
    "collapsed": false
   }
  },
  {
   "cell_type": "code",
   "execution_count": 35,
   "outputs": [
    {
     "ename": "KeyError",
     "evalue": "False",
     "output_type": "error",
     "traceback": [
      "\u001B[1;31m---------------------------------------------------------------------------\u001B[0m",
      "\u001B[1;31mKeyError\u001B[0m                                  Traceback (most recent call last)",
      "File \u001B[1;32m~\\AppData\\Local\\Packages\\PythonSoftwareFoundation.Python.3.10_qbz5n2kfra8p0\\LocalCache\\local-packages\\Python310\\site-packages\\pandas\\core\\indexes\\base.py:3803\u001B[0m, in \u001B[0;36mIndex.get_loc\u001B[1;34m(self, key, method, tolerance)\u001B[0m\n\u001B[0;32m   3802\u001B[0m \u001B[38;5;28;01mtry\u001B[39;00m:\n\u001B[1;32m-> 3803\u001B[0m     \u001B[38;5;28;01mreturn\u001B[39;00m \u001B[38;5;28;43mself\u001B[39;49m\u001B[38;5;241;43m.\u001B[39;49m\u001B[43m_engine\u001B[49m\u001B[38;5;241;43m.\u001B[39;49m\u001B[43mget_loc\u001B[49m\u001B[43m(\u001B[49m\u001B[43mcasted_key\u001B[49m\u001B[43m)\u001B[49m\n\u001B[0;32m   3804\u001B[0m \u001B[38;5;28;01mexcept\u001B[39;00m \u001B[38;5;167;01mKeyError\u001B[39;00m \u001B[38;5;28;01mas\u001B[39;00m err:\n",
      "File \u001B[1;32m~\\AppData\\Local\\Packages\\PythonSoftwareFoundation.Python.3.10_qbz5n2kfra8p0\\LocalCache\\local-packages\\Python310\\site-packages\\pandas\\_libs\\index.pyx:138\u001B[0m, in \u001B[0;36mpandas._libs.index.IndexEngine.get_loc\u001B[1;34m()\u001B[0m\n",
      "File \u001B[1;32m~\\AppData\\Local\\Packages\\PythonSoftwareFoundation.Python.3.10_qbz5n2kfra8p0\\LocalCache\\local-packages\\Python310\\site-packages\\pandas\\_libs\\index.pyx:165\u001B[0m, in \u001B[0;36mpandas._libs.index.IndexEngine.get_loc\u001B[1;34m()\u001B[0m\n",
      "File \u001B[1;32mpandas\\_libs\\hashtable_class_helper.pxi:5745\u001B[0m, in \u001B[0;36mpandas._libs.hashtable.PyObjectHashTable.get_item\u001B[1;34m()\u001B[0m\n",
      "File \u001B[1;32mpandas\\_libs\\hashtable_class_helper.pxi:5753\u001B[0m, in \u001B[0;36mpandas._libs.hashtable.PyObjectHashTable.get_item\u001B[1;34m()\u001B[0m\n",
      "\u001B[1;31mKeyError\u001B[0m: False",
      "\nThe above exception was the direct cause of the following exception:\n",
      "\u001B[1;31mKeyError\u001B[0m                                  Traceback (most recent call last)",
      "Cell \u001B[1;32mIn [35], line 1\u001B[0m\n\u001B[1;32m----> 1\u001B[0m df[ \u001B[43mdf\u001B[49m\u001B[43m[\u001B[49m\u001B[38;5;124;43m'\u001B[39;49m\u001B[38;5;124;43mclass\u001B[39;49m\u001B[38;5;124;43m'\u001B[39;49m\u001B[43m \u001B[49m\u001B[38;5;241;43m==\u001B[39;49m\u001B[43m \u001B[49m\u001B[38;5;241;43m1\u001B[39;49m\u001B[43m]\u001B[49m ]\u001B[38;5;241m.\u001B[39msum()\n",
      "File \u001B[1;32m~\\AppData\\Local\\Packages\\PythonSoftwareFoundation.Python.3.10_qbz5n2kfra8p0\\LocalCache\\local-packages\\Python310\\site-packages\\pandas\\core\\frame.py:3804\u001B[0m, in \u001B[0;36mDataFrame.__getitem__\u001B[1;34m(self, key)\u001B[0m\n\u001B[0;32m   3802\u001B[0m \u001B[38;5;28;01mif\u001B[39;00m \u001B[38;5;28mself\u001B[39m\u001B[38;5;241m.\u001B[39mcolumns\u001B[38;5;241m.\u001B[39mnlevels \u001B[38;5;241m>\u001B[39m \u001B[38;5;241m1\u001B[39m:\n\u001B[0;32m   3803\u001B[0m     \u001B[38;5;28;01mreturn\u001B[39;00m \u001B[38;5;28mself\u001B[39m\u001B[38;5;241m.\u001B[39m_getitem_multilevel(key)\n\u001B[1;32m-> 3804\u001B[0m indexer \u001B[38;5;241m=\u001B[39m \u001B[38;5;28;43mself\u001B[39;49m\u001B[38;5;241;43m.\u001B[39;49m\u001B[43mcolumns\u001B[49m\u001B[38;5;241;43m.\u001B[39;49m\u001B[43mget_loc\u001B[49m\u001B[43m(\u001B[49m\u001B[43mkey\u001B[49m\u001B[43m)\u001B[49m\n\u001B[0;32m   3805\u001B[0m \u001B[38;5;28;01mif\u001B[39;00m is_integer(indexer):\n\u001B[0;32m   3806\u001B[0m     indexer \u001B[38;5;241m=\u001B[39m [indexer]\n",
      "File \u001B[1;32m~\\AppData\\Local\\Packages\\PythonSoftwareFoundation.Python.3.10_qbz5n2kfra8p0\\LocalCache\\local-packages\\Python310\\site-packages\\pandas\\core\\indexes\\base.py:3805\u001B[0m, in \u001B[0;36mIndex.get_loc\u001B[1;34m(self, key, method, tolerance)\u001B[0m\n\u001B[0;32m   3803\u001B[0m     \u001B[38;5;28;01mreturn\u001B[39;00m \u001B[38;5;28mself\u001B[39m\u001B[38;5;241m.\u001B[39m_engine\u001B[38;5;241m.\u001B[39mget_loc(casted_key)\n\u001B[0;32m   3804\u001B[0m \u001B[38;5;28;01mexcept\u001B[39;00m \u001B[38;5;167;01mKeyError\u001B[39;00m \u001B[38;5;28;01mas\u001B[39;00m err:\n\u001B[1;32m-> 3805\u001B[0m     \u001B[38;5;28;01mraise\u001B[39;00m \u001B[38;5;167;01mKeyError\u001B[39;00m(key) \u001B[38;5;28;01mfrom\u001B[39;00m \u001B[38;5;21;01merr\u001B[39;00m\n\u001B[0;32m   3806\u001B[0m \u001B[38;5;28;01mexcept\u001B[39;00m \u001B[38;5;167;01mTypeError\u001B[39;00m:\n\u001B[0;32m   3807\u001B[0m     \u001B[38;5;66;03m# If we have a listlike key, _check_indexing_error will raise\u001B[39;00m\n\u001B[0;32m   3808\u001B[0m     \u001B[38;5;66;03m#  InvalidIndexError. Otherwise we fall through and re-raise\u001B[39;00m\n\u001B[0;32m   3809\u001B[0m     \u001B[38;5;66;03m#  the TypeError.\u001B[39;00m\n\u001B[0;32m   3810\u001B[0m     \u001B[38;5;28mself\u001B[39m\u001B[38;5;241m.\u001B[39m_check_indexing_error(key)\n",
      "\u001B[1;31mKeyError\u001B[0m: False"
     ]
    }
   ],
   "source": [
    "df[ df['class' == 1] ].sum()"
   ],
   "metadata": {
    "collapsed": false
   }
  },
  {
   "cell_type": "code",
   "execution_count": 19,
   "outputs": [
    {
     "data": {
      "text/plain": "           Attr1     Attr2     Attr3     Attr4     Attr5     Attr6     Attr7  \\\nAttr1   1.000000 -0.155932  0.159913  0.014650  0.008364  0.129868  0.422068   \nAttr2  -0.155932  1.000000 -0.985782 -0.010019 -0.052235 -0.772227 -0.193355   \nAttr3   0.159913 -0.985782  1.000000  0.011219  0.052916  0.781194  0.087043   \nAttr4   0.014650 -0.010019  0.011219  1.000000 -0.000885  0.003946  0.014725   \nAttr5   0.008364 -0.052235  0.052916 -0.000885  1.000000  0.040984  0.004792   \n...          ...       ...       ...       ...       ...       ...       ...   \nAttr61  0.009186 -0.002368 -0.001286 -0.003024 -0.000168  0.001205  0.200103   \nAttr62 -0.000848  0.005456 -0.005054 -0.001617 -0.002224 -0.003916 -0.000973   \nAttr63  0.049427 -0.017961  0.016156  0.259509  0.005443  0.008937  0.074479   \nAttr64 -0.041161 -0.104069 -0.018111 -0.002469  0.000218  0.075933  0.193554   \nclass  -0.010643  0.065150 -0.065102  0.008071 -0.002013 -0.052311 -0.012167   \n\n           Attr8     Attr9    Attr10  ...    Attr56    Attr57    Attr58  \\\nAttr1   0.016007 -0.561939 -0.349011  ...  0.000061  0.004398 -0.000061   \nAttr2  -0.008612 -0.073338 -0.221383  ... -0.000655 -0.000743  0.000656   \nAttr3   0.007717 -0.000664  0.155591  ...  0.000019  0.002130 -0.000019   \nAttr4   0.191945 -0.013729  0.009601  ...  0.001198  0.001944 -0.001198   \nAttr5   0.002115  0.003074  0.008561  ... -0.000091  0.000274  0.000091   \n...          ...       ...       ...  ...       ...       ...       ...   \nAttr61  0.013407  0.361653  0.246368  ...  0.000716  0.001100 -0.000716   \nAttr62 -0.001838 -0.000829 -0.001491  ... -0.960360 -0.000528  0.960360   \nAttr63  0.492540  0.221595  0.044757  ...  0.004864  0.009670 -0.004864   \nAttr64 -0.066054  0.255474  0.322211  ...  0.000486 -0.001642 -0.000486   \nclass  -0.000151 -0.007061 -0.018709  ...  0.002390 -0.060032 -0.002389   \n\n          Attr59    Attr60    Attr61    Attr62    Attr63    Attr64     class  \nAttr1   0.000287 -0.000375  0.009186 -0.000848  0.049427 -0.041161 -0.010643  \nAttr2   0.000979 -0.000016 -0.002368  0.005456 -0.017961 -0.104069  0.065150  \nAttr3  -0.001116 -0.000332 -0.001286 -0.005054  0.016156 -0.018111 -0.065102  \nAttr4  -0.005648 -0.003344 -0.003024 -0.001617  0.259509 -0.002469  0.008071  \nAttr5   0.004470 -0.000193 -0.000168 -0.002224  0.005443  0.000218 -0.002013  \n...          ...       ...       ...       ...       ...       ...       ...  \nAttr61 -0.001566 -0.000576  1.000000 -0.000907  0.180655  0.954745 -0.002534  \nAttr62  0.005322 -0.000248 -0.000907  1.000000 -0.006185 -0.000619 -0.002679  \nAttr63 -0.011145 -0.001551  0.180655 -0.006185  1.000000  0.179843  0.004930  \nAttr64 -0.001674 -0.000581  0.954745 -0.000619  0.179843  1.000000 -0.007198  \nclass   0.002221 -0.002482 -0.002534 -0.002679  0.004930 -0.007198  1.000000  \n\n[65 rows x 65 columns]",
      "text/html": "<div>\n<style scoped>\n    .dataframe tbody tr th:only-of-type {\n        vertical-align: middle;\n    }\n\n    .dataframe tbody tr th {\n        vertical-align: top;\n    }\n\n    .dataframe thead th {\n        text-align: right;\n    }\n</style>\n<table border=\"1\" class=\"dataframe\">\n  <thead>\n    <tr style=\"text-align: right;\">\n      <th></th>\n      <th>Attr1</th>\n      <th>Attr2</th>\n      <th>Attr3</th>\n      <th>Attr4</th>\n      <th>Attr5</th>\n      <th>Attr6</th>\n      <th>Attr7</th>\n      <th>Attr8</th>\n      <th>Attr9</th>\n      <th>Attr10</th>\n      <th>...</th>\n      <th>Attr56</th>\n      <th>Attr57</th>\n      <th>Attr58</th>\n      <th>Attr59</th>\n      <th>Attr60</th>\n      <th>Attr61</th>\n      <th>Attr62</th>\n      <th>Attr63</th>\n      <th>Attr64</th>\n      <th>class</th>\n    </tr>\n  </thead>\n  <tbody>\n    <tr>\n      <th>Attr1</th>\n      <td>1.000000</td>\n      <td>-0.155932</td>\n      <td>0.159913</td>\n      <td>0.014650</td>\n      <td>0.008364</td>\n      <td>0.129868</td>\n      <td>0.422068</td>\n      <td>0.016007</td>\n      <td>-0.561939</td>\n      <td>-0.349011</td>\n      <td>...</td>\n      <td>0.000061</td>\n      <td>0.004398</td>\n      <td>-0.000061</td>\n      <td>0.000287</td>\n      <td>-0.000375</td>\n      <td>0.009186</td>\n      <td>-0.000848</td>\n      <td>0.049427</td>\n      <td>-0.041161</td>\n      <td>-0.010643</td>\n    </tr>\n    <tr>\n      <th>Attr2</th>\n      <td>-0.155932</td>\n      <td>1.000000</td>\n      <td>-0.985782</td>\n      <td>-0.010019</td>\n      <td>-0.052235</td>\n      <td>-0.772227</td>\n      <td>-0.193355</td>\n      <td>-0.008612</td>\n      <td>-0.073338</td>\n      <td>-0.221383</td>\n      <td>...</td>\n      <td>-0.000655</td>\n      <td>-0.000743</td>\n      <td>0.000656</td>\n      <td>0.000979</td>\n      <td>-0.000016</td>\n      <td>-0.002368</td>\n      <td>0.005456</td>\n      <td>-0.017961</td>\n      <td>-0.104069</td>\n      <td>0.065150</td>\n    </tr>\n    <tr>\n      <th>Attr3</th>\n      <td>0.159913</td>\n      <td>-0.985782</td>\n      <td>1.000000</td>\n      <td>0.011219</td>\n      <td>0.052916</td>\n      <td>0.781194</td>\n      <td>0.087043</td>\n      <td>0.007717</td>\n      <td>-0.000664</td>\n      <td>0.155591</td>\n      <td>...</td>\n      <td>0.000019</td>\n      <td>0.002130</td>\n      <td>-0.000019</td>\n      <td>-0.001116</td>\n      <td>-0.000332</td>\n      <td>-0.001286</td>\n      <td>-0.005054</td>\n      <td>0.016156</td>\n      <td>-0.018111</td>\n      <td>-0.065102</td>\n    </tr>\n    <tr>\n      <th>Attr4</th>\n      <td>0.014650</td>\n      <td>-0.010019</td>\n      <td>0.011219</td>\n      <td>1.000000</td>\n      <td>-0.000885</td>\n      <td>0.003946</td>\n      <td>0.014725</td>\n      <td>0.191945</td>\n      <td>-0.013729</td>\n      <td>0.009601</td>\n      <td>...</td>\n      <td>0.001198</td>\n      <td>0.001944</td>\n      <td>-0.001198</td>\n      <td>-0.005648</td>\n      <td>-0.003344</td>\n      <td>-0.003024</td>\n      <td>-0.001617</td>\n      <td>0.259509</td>\n      <td>-0.002469</td>\n      <td>0.008071</td>\n    </tr>\n    <tr>\n      <th>Attr5</th>\n      <td>0.008364</td>\n      <td>-0.052235</td>\n      <td>0.052916</td>\n      <td>-0.000885</td>\n      <td>1.000000</td>\n      <td>0.040984</td>\n      <td>0.004792</td>\n      <td>0.002115</td>\n      <td>0.003074</td>\n      <td>0.008561</td>\n      <td>...</td>\n      <td>-0.000091</td>\n      <td>0.000274</td>\n      <td>0.000091</td>\n      <td>0.004470</td>\n      <td>-0.000193</td>\n      <td>-0.000168</td>\n      <td>-0.002224</td>\n      <td>0.005443</td>\n      <td>0.000218</td>\n      <td>-0.002013</td>\n    </tr>\n    <tr>\n      <th>...</th>\n      <td>...</td>\n      <td>...</td>\n      <td>...</td>\n      <td>...</td>\n      <td>...</td>\n      <td>...</td>\n      <td>...</td>\n      <td>...</td>\n      <td>...</td>\n      <td>...</td>\n      <td>...</td>\n      <td>...</td>\n      <td>...</td>\n      <td>...</td>\n      <td>...</td>\n      <td>...</td>\n      <td>...</td>\n      <td>...</td>\n      <td>...</td>\n      <td>...</td>\n      <td>...</td>\n    </tr>\n    <tr>\n      <th>Attr61</th>\n      <td>0.009186</td>\n      <td>-0.002368</td>\n      <td>-0.001286</td>\n      <td>-0.003024</td>\n      <td>-0.000168</td>\n      <td>0.001205</td>\n      <td>0.200103</td>\n      <td>0.013407</td>\n      <td>0.361653</td>\n      <td>0.246368</td>\n      <td>...</td>\n      <td>0.000716</td>\n      <td>0.001100</td>\n      <td>-0.000716</td>\n      <td>-0.001566</td>\n      <td>-0.000576</td>\n      <td>1.000000</td>\n      <td>-0.000907</td>\n      <td>0.180655</td>\n      <td>0.954745</td>\n      <td>-0.002534</td>\n    </tr>\n    <tr>\n      <th>Attr62</th>\n      <td>-0.000848</td>\n      <td>0.005456</td>\n      <td>-0.005054</td>\n      <td>-0.001617</td>\n      <td>-0.002224</td>\n      <td>-0.003916</td>\n      <td>-0.000973</td>\n      <td>-0.001838</td>\n      <td>-0.000829</td>\n      <td>-0.001491</td>\n      <td>...</td>\n      <td>-0.960360</td>\n      <td>-0.000528</td>\n      <td>0.960360</td>\n      <td>0.005322</td>\n      <td>-0.000248</td>\n      <td>-0.000907</td>\n      <td>1.000000</td>\n      <td>-0.006185</td>\n      <td>-0.000619</td>\n      <td>-0.002679</td>\n    </tr>\n    <tr>\n      <th>Attr63</th>\n      <td>0.049427</td>\n      <td>-0.017961</td>\n      <td>0.016156</td>\n      <td>0.259509</td>\n      <td>0.005443</td>\n      <td>0.008937</td>\n      <td>0.074479</td>\n      <td>0.492540</td>\n      <td>0.221595</td>\n      <td>0.044757</td>\n      <td>...</td>\n      <td>0.004864</td>\n      <td>0.009670</td>\n      <td>-0.004864</td>\n      <td>-0.011145</td>\n      <td>-0.001551</td>\n      <td>0.180655</td>\n      <td>-0.006185</td>\n      <td>1.000000</td>\n      <td>0.179843</td>\n      <td>0.004930</td>\n    </tr>\n    <tr>\n      <th>Attr64</th>\n      <td>-0.041161</td>\n      <td>-0.104069</td>\n      <td>-0.018111</td>\n      <td>-0.002469</td>\n      <td>0.000218</td>\n      <td>0.075933</td>\n      <td>0.193554</td>\n      <td>-0.066054</td>\n      <td>0.255474</td>\n      <td>0.322211</td>\n      <td>...</td>\n      <td>0.000486</td>\n      <td>-0.001642</td>\n      <td>-0.000486</td>\n      <td>-0.001674</td>\n      <td>-0.000581</td>\n      <td>0.954745</td>\n      <td>-0.000619</td>\n      <td>0.179843</td>\n      <td>1.000000</td>\n      <td>-0.007198</td>\n    </tr>\n    <tr>\n      <th>class</th>\n      <td>-0.010643</td>\n      <td>0.065150</td>\n      <td>-0.065102</td>\n      <td>0.008071</td>\n      <td>-0.002013</td>\n      <td>-0.052311</td>\n      <td>-0.012167</td>\n      <td>-0.000151</td>\n      <td>-0.007061</td>\n      <td>-0.018709</td>\n      <td>...</td>\n      <td>0.002390</td>\n      <td>-0.060032</td>\n      <td>-0.002389</td>\n      <td>0.002221</td>\n      <td>-0.002482</td>\n      <td>-0.002534</td>\n      <td>-0.002679</td>\n      <td>0.004930</td>\n      <td>-0.007198</td>\n      <td>1.000000</td>\n    </tr>\n  </tbody>\n</table>\n<p>65 rows × 65 columns</p>\n</div>"
     },
     "execution_count": 19,
     "metadata": {},
     "output_type": "execute_result"
    }
   ],
   "source": [
    "df.corr()"
   ],
   "metadata": {
    "collapsed": false
   }
  },
  {
   "cell_type": "code",
   "execution_count": null,
   "outputs": [],
   "source": [],
   "metadata": {
    "collapsed": false
   }
  }
 ],
 "metadata": {
  "kernelspec": {
   "display_name": "Python 3 (ipykernel)",
   "language": "python",
   "name": "python3"
  },
  "language_info": {
   "codemirror_mode": {
    "name": "ipython",
    "version": 3
   },
   "file_extension": ".py",
   "mimetype": "text/x-python",
   "name": "python",
   "nbconvert_exporter": "python",
   "pygments_lexer": "ipython3",
   "version": "3.10.10"
  }
 },
 "nbformat": 4,
 "nbformat_minor": 5
}
